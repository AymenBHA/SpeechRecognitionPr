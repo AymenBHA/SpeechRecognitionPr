{
 "cells": [
  {
   "cell_type": "code",
   "execution_count": 1,
   "metadata": {},
   "outputs": [],
   "source": [
    "import subprocess\n",
    "import os\n",
    "\n",
    "\n",
    "class commander:\n",
    "    def __init__(self):\n",
    "        self.confirm=[\"yes\",\"affirmative\",\"si\",\"sure\",\"do it\",\"yeah\",\"confirm\"]\n",
    "        self.cancel = [\"no\",\"negative\",\"negative soldier\",\"don't\",\"wait\",\"cancel\"]\n",
    "        \n",
    "    def descover(self,text):\n",
    "        if \"what\" in text and \"your name\" in text:\n",
    "            if \"my\" in text:\n",
    "                self.respond(\"you haven't told me your name yet\")\n",
    "            else:\n",
    "                self.respond(\"my name is python commander , How are you ?\")\n",
    "   \n",
    "    def respond(self,response):\n",
    "        print(response)\n",
    "        subprocess.call(\"say\"+response,shell=True)\n",
    "\n"
   ]
  },
  {
   "cell_type": "code",
   "execution_count": null,
   "metadata": {},
   "outputs": [],
   "source": []
  },
  {
   "cell_type": "code",
   "execution_count": null,
   "metadata": {},
   "outputs": [],
   "source": []
  }
 ],
 "metadata": {
  "kernelspec": {
   "display_name": "Python 3",
   "language": "python",
   "name": "python3"
  },
  "language_info": {
   "codemirror_mode": {
    "name": "ipython",
    "version": 3
   },
   "file_extension": ".py",
   "mimetype": "text/x-python",
   "name": "python",
   "nbconvert_exporter": "python",
   "pygments_lexer": "ipython3",
   "version": "3.6.5"
  }
 },
 "nbformat": 4,
 "nbformat_minor": 2
}
