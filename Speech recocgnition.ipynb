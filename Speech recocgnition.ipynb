{
 "cells": [
  {
   "cell_type": "code",
   "execution_count": null,
   "metadata": {},
   "outputs": [],
   "source": [
    "import subprocess\n",
    "import os\n",
    "\n",
    "\n",
    "class commander:\n",
    "    def __init__(self):\n",
    "        self.confirm=[\"yes\",\"affirmative\",\"si\",\"sure\",\"do it\",\"yeah\",\"confirm\"]\n",
    "        self.cancel = [\"no\",\"negative\",\"negative soldier\",\"don't\",\"wait\",\"cancel\"]\n",
    "        \n",
    "    def descover(self,text):\n",
    "        if \"what\" in text and \"your name\" in text:\n",
    "            if \"my\" in text:\n",
    "                self.respond(\"you haven't told me your name yet\")\n",
    "            else:\n",
    "                self.respond(\"my name is python commander , How are you ?\")\n",
    "   \n",
    "    def respond(self,response):\n",
    "        print(response)\n",
    "        subprocess.call(\"say\"+response,shell=True)\n",
    "\n"
   ]
  },
  {
   "cell_type": "code",
   "execution_count": 1,
   "metadata": {},
   "outputs": [
    {
     "ename": "ModuleNotFoundError",
     "evalue": "No module named 'commands'",
     "output_type": "error",
     "traceback": [
      "\u001b[1;31m---------------------------------------------------------------------------\u001b[0m",
      "\u001b[1;31mModuleNotFoundError\u001b[0m                       Traceback (most recent call last)",
      "\u001b[1;32m<ipython-input-1-fa385bfc3f02>\u001b[0m in \u001b[0;36m<module>\u001b[1;34m()\u001b[0m\n\u001b[0;32m      3\u001b[0m \u001b[1;32mimport\u001b[0m \u001b[0mwave\u001b[0m\u001b[1;33m\u001b[0m\u001b[0m\n\u001b[0;32m      4\u001b[0m \u001b[1;32mimport\u001b[0m \u001b[0msubprocess\u001b[0m\u001b[1;33m\u001b[0m\u001b[0m\n\u001b[1;32m----> 5\u001b[1;33m \u001b[1;32mfrom\u001b[0m \u001b[0mcommands\u001b[0m \u001b[1;32mimport\u001b[0m \u001b[0mcommander\u001b[0m\u001b[1;33m\u001b[0m\u001b[0m\n\u001b[0m",
      "\u001b[1;31mModuleNotFoundError\u001b[0m: No module named 'commands'"
     ]
    }
   ],
   "source": [
    "import pyaudio\n",
    "import speech_recognition as sr\n",
    "import wave\n",
    "import subprocess\n",
    "from commands import commander "
   ]
  },
  {
   "cell_type": "code",
   "execution_count": null,
   "metadata": {},
   "outputs": [],
   "source": [
    "running=True\n",
    "\n",
    "def say(text):\n",
    "    subprocess.call('say '+text,shell=True)"
   ]
  },
  {
   "cell_type": "code",
   "execution_count": null,
   "metadata": {},
   "outputs": [],
   "source": [
    "def play_audio(filename):\n",
    "    chunk = 1024\n",
    "    wf = wave.open(filename,'rb')\n",
    "    pa = pyaudio.PyAudio()\n",
    "    \n",
    "    stream = pa.open(\n",
    "        format=pa.get_format_from_width(wf.getsampwidth()),\n",
    "        channels=wf.getnchannels(),\n",
    "        rate =wf.getframerate(),\n",
    "        output=True\n",
    "    )\n",
    "    \n",
    "    data_stream=wf.readframes(chunk)\n",
    "    \n",
    "    while data_stream:\n",
    "        stream.write(data_stream)\n",
    "        data_stream = wf.readframes(chunk)\n",
    "    \n",
    "    stream.close()\n",
    "    pa.terminate()\n",
    "\n",
    "play_audio(\"./audio/sound1.wav\")"
   ]
  },
  {
   "cell_type": "code",
   "execution_count": null,
   "metadata": {},
   "outputs": [],
   "source": [
    "r= sr.Recognizer()\n",
    "cmd=commander()\n",
    "\n",
    "def initSpeech():\n",
    "    print(\"Listening . . . \")\n",
    "    play_audio(\"./audio/sound1.wav\")\n",
    "    \n",
    "    with sr.Microphone() as source:\n",
    "        print (\"Say something \")\n",
    "        audio = r.listen(source)\n",
    "        \n",
    "    play_audio(\"./audio/sound2.wav\")\n",
    "    command= \"\"\n",
    "    \n",
    "    try:\n",
    "        command = r.recognize_google(audio)\n",
    "    except:\n",
    "        print(\"Couldn't understand you , Bro . \")\n",
    "    \n",
    "    print(\"Your Command : \")\n",
    "    print(command)\n",
    "    \n",
    "    if command==\"quit\":\n",
    "        running=False\n",
    "        \n",
    "    cmd.descover(command)\n",
    "    \n",
    "    #say('you said : '+command)\n",
    "    \n",
    "    \n",
    "while running==True:\n",
    "    initSpeech()"
   ]
  },
  {
   "cell_type": "code",
   "execution_count": null,
   "metadata": {},
   "outputs": [],
   "source": [
    "\n"
   ]
  }
 ],
 "metadata": {
  "kernelspec": {
   "display_name": "Python 3",
   "language": "python",
   "name": "python3"
  },
  "language_info": {
   "codemirror_mode": {
    "name": "ipython",
    "version": 3
   },
   "file_extension": ".py",
   "mimetype": "text/x-python",
   "name": "python",
   "nbconvert_exporter": "python",
   "pygments_lexer": "ipython3",
   "version": "3.6.5"
  }
 },
 "nbformat": 4,
 "nbformat_minor": 2
}
